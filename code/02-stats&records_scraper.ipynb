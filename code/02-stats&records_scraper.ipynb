{
 "cells": [
  {
   "cell_type": "code",
   "execution_count": 1,
   "id": "9e21b106",
   "metadata": {},
   "outputs": [],
   "source": [
    "# importing the necessary libaries\n",
    "import os\n",
    "from selenium import webdriver\n",
    "from selenium.webdriver.chrome.options import Options\n",
    "from selenium.common.exceptions import NoSuchElementException\n",
    "from selenium.webdriver.common.by import By\n",
    "import pandas as pd\n",
    "from tqdm import tqdm\n",
    "import re\n",
    "import time"
   ]
  },
  {
   "cell_type": "code",
   "execution_count": 2,
   "id": "13e11063",
   "metadata": {},
   "outputs": [],
   "source": [
    "# loading in the path for the chrome selenium driver\n",
    "os.environ['PATH'] += r'C:/SeleniumDrivers/chromedriver_win32'\n",
    "\n",
    "# loading in the dataset \n",
    "data = pd.read_excel('data/merged_data1.xlsx', sheet_name='Sheet2')\n",
    "fighter_data = data.copy()"
   ]
  },
  {
   "cell_type": "code",
   "execution_count": null,
   "id": "1d00457e",
   "metadata": {},
   "outputs": [],
   "source": [
    "list1 = list(fighter_data['raw_fighter_names'])\n",
    "list2 = list(fighter_data['fighter_names'])\n",
    "\n",
    "not_in_list2 = []\n",
    "for element in list1:\n",
    "    if element not in list2:\n",
    "        not_in_list2.append(element)\n",
    "\n",
    "print(len(not_in_list2))\n",
    "print(not_in_list2)"
   ]
  },
  {
   "cell_type": "code",
   "execution_count": null,
   "id": "af790128",
   "metadata": {},
   "outputs": [],
   "source": [
    "# Create a series that you want to export to the Excel file\n",
    "new_fighters_list = pd.Series(not_in_list2)\n",
    "\n",
    "# Export the series to the 'Series' sheet in the Excel file\n",
    "with pd.ExcelWriter('spot_check.xlsx', mode='a') as writer:\n",
    "    new_fighters_list.to_excel(writer, sheet_name='Series_1', index=False)"
   ]
  },
  {
   "cell_type": "code",
   "execution_count": 3,
   "id": "2e1d3447",
   "metadata": {},
   "outputs": [],
   "source": [
    "# setting up a few additional parameters\n",
    "options = Options()\n",
    "options.headless = True\n",
    "options.add_argument(\"--window-size=1920,1200\")"
   ]
  },
  {
   "cell_type": "code",
   "execution_count": 4,
   "id": "452383d8",
   "metadata": {},
   "outputs": [
    {
     "name": "stdout",
     "output_type": "stream",
     "text": [
      "374\n"
     ]
    }
   ],
   "source": [
    "# obtaining a list of the fighters and converting their names to\n",
    "# match with the UFC URL path \n",
    "\n",
    "fighter_list = fighter_data['fighter'].dropna().tolist()\n",
    "# # for i, j in enumerate(fighter_list):\n",
    "# #     fighter_list[i] = j.lower().replace(' ', '-')\n",
    "print(len(fighter_list))\n",
    "#fighter_list = ['ben-sosoli']"
   ]
  },
  {
   "cell_type": "code",
   "execution_count": 5,
   "id": "1bc0750d",
   "metadata": {},
   "outputs": [],
   "source": [
    "lstr_acc = []\n",
    "ltkd_acc = []\n",
    "lavg_kdft = []\n",
    "lstr_by_pos = []\n",
    "lstr_by_tar = []\n",
    "lwin_meth = []\n",
    "lnum_of_fights = []\n",
    "lfight_style = []"
   ]
  },
  {
   "cell_type": "code",
   "execution_count": 6,
   "id": "76c0cb54",
   "metadata": {},
   "outputs": [],
   "source": [
    "# str_acc = '//*[@id=\"block-mainpagecontent\"]/div/div/div/div[1]/div/div/div[1]/div[2]'\n",
    "# tkd_acc = '//*[@id=\"tab-panel-1\"]/div/div/div/div/div/div[3]'\n",
    "# avg_kd_ft = '//*[@id=\"block-mainpagecontent\"]/div/div/div/div[3]/div/div/div[2]/div[5]/div/div[3]'\n",
    "# str_by_pos = '//*[@id=\"block-mainpagecontent\"]/div/div/div/div[3]/div/div/div[2]/div[6]/div/div/div'\n",
    "# str_by_tar = '//*[@id=\"block-mainpagecontent\"]/div/div/div/div[3]/div/div/div[2]/div[7]/div/div'\n",
    "# win_meth = '//*[@id=\"block-mainpagecontent\"]/div/div/div/div[3]/div/div/div[2]/div[8]/div/div/div'\n",
    "\n",
    "num_of_fights = '//*[@id=\"block-mainpagecontent\"]/div/div/div/div[1]/div/div/div[1]/div[2]/p[1]'\n",
    "fight_style = '//*[@id=\"block-mainpagecontent\"]/div/div/div/div[1]/div/div/div[1]/div[2]/p[2]'"
   ]
  },
  {
   "cell_type": "code",
   "execution_count": 7,
   "id": "8ca970be",
   "metadata": {},
   "outputs": [
    {
     "name": "stderr",
     "output_type": "stream",
     "text": [
      "100%|██████████████████████████████████████████████████████████████████████████████████| 374/374 [16:23<00:00,  2.63s/it]\n"
     ]
    }
   ],
   "source": [
    "driver = webdriver.Chrome(options=options)\n",
    "\n",
    "with tqdm(total=len(fighter_list)) as pbar:\n",
    "    for fighter_name in fighter_list:\n",
    "        driver.get('https://ufc.com/athlete/' + fighter_name)\n",
    "#         time.sleep(5)\n",
    "        try:\n",
    "#             sl = driver.find_element(by=By.XPATH, value=str_acc)\n",
    "#             sa = driver.find_element(by=By.XPATH, value=tkd_acc)\n",
    "#             kdft = driver.find_element(by=By.XPATH, value=avg_kd_ft)\n",
    "#             ta = driver.find_element(by=By.XPATH, value=str_by_pos)\n",
    "#             akf = driver.find_element(by=By.XPATH, value=str_by_tar)\n",
    "#             ssp = driver.find_element(by=By.XPATH, value=win_meth)\n",
    "            nof = driver.find_element(by=By.XPATH, value=num_of_fights)\n",
    "            fs = driver.find_element(by=By.XPATH, value=fight_style)\n",
    "#             lstr_acc.append(sl.text)\n",
    "#             ltkd_acc.append(sa.text)\n",
    "#             lavg_kdft.append(kdft.text)\n",
    "#             lstr_by_pos.append(ta.text)\n",
    "#             lstr_by_tar.append(akf.text)\n",
    "#             lwin_meth.append(ssp.text)\n",
    "            lnum_of_fights.append(nof.text)\n",
    "            lfight_style.append(fs.text)\n",
    "        except NoSuchElementException:\n",
    "            found = False\n",
    "#             lstr_acc.append(\"N/A\")\n",
    "#             ltkd_acc.append(\"N/A\")\n",
    "#             lavg_kdft.append(\"N/A\")\n",
    "#             lstr_by_pos.append(\"N/A\")\n",
    "#             lstr_by_tar.append(\"N/A\")\n",
    "#             lwin_meth.append(\"N/A\")\n",
    "            lnum_of_fights.append(\"N/A\")\n",
    "            lfight_style.append(\"N/A\")\n",
    "        pbar.update(1) \n",
    "\n",
    "driver.quit()"
   ]
  },
  {
   "cell_type": "code",
   "execution_count": 8,
   "id": "e8293a0c",
   "metadata": {},
   "outputs": [
    {
     "name": "stdout",
     "output_type": "stream",
     "text": [
      "['Light Heavyweight Division', 'Middleweight Division', 'Welterweight Division', 'Bantamweight Division', 'Middleweight Division', 'Heavyweight Division', 'N/A', 'N/A', 'Middleweight Division', 'Middleweight Division', 'Lightweight Division', 'Heavyweight Division', 'Welterweight Division', 'N/A', 'Middleweight Division', 'N/A', 'Lightweight Division', 'Bantamweight Division', 'Middleweight Division', 'Lightweight Division', 'Lightweight Division', 'Heavyweight Division', '', 'Featherweight Division', '', 'Welterweight Division', 'Lightweight Division', 'N/A', 'N/A', \"Women's Flyweight Division\", 'N/A', '', 'Welterweight Division', 'N/A', 'Heavyweight Division', \"Women's Bantamweight Division\", 'N/A', 'Heavyweight Division', 'Bantamweight Division', 'Middleweight Division', 'Flyweight Division', 'N/A', 'Light Heavyweight Division', 'Lightweight Division', 'Middleweight Division', 'Heavyweight Division', 'Lightweight Division', 'Welterweight Division', 'Lightweight Division', \"Women's Strawweight Division\", 'N/A', 'Middleweight Division', '', 'Middleweight Division', 'Bantamweight Division', 'N/A', 'N/A', 'Bantamweight Division', 'N/A', 'N/A', 'Middleweight Division', 'Lightweight Division', 'Heavyweight Division', 'Heavyweight Division', 'Heavyweight Division', 'Light Heavyweight Division', 'N/A', 'Middleweight Division', 'Middleweight Division', 'Lightweight Division', 'Welterweight Division', 'N/A', 'Welterweight Division', 'Lightweight Division', 'Welterweight Division', 'Welterweight Division', \"Women's Strawweight Division\", 'Light Heavyweight Division', 'Middleweight Division', 'Middleweight Division', 'N/A', 'Heavyweight Division', 'N/A', 'Middleweight Division', 'Light Heavyweight Division', 'Bantamweight Division', '', 'N/A', '', 'Lightweight Division', 'Lightweight Division', \"Women's Flyweight Division\", 'Heavyweight Division', 'Welterweight Division', '', 'N/A', 'Lightweight Division', 'N/A', 'Welterweight Division', 'N/A', 'N/A', 'Middleweight Division', 'Featherweight Division', 'N/A', 'N/A', 'N/A', 'Welterweight Division', 'N/A', 'N/A', 'Lightweight Division', '', 'Lightweight Division', '', '', 'Bantamweight Division', 'N/A', 'Middleweight Division', 'Lightweight Division', '', '', 'N/A', 'Bantamweight Division', 'Heavyweight Division', 'Middleweight Division', 'Lightweight Division', '', 'N/A', 'N/A', \"Women's Strawweight Division\", 'N/A', 'Light Heavyweight Division', 'Heavyweight Division', 'Heavyweight Division', 'Welterweight Division', 'N/A', 'Light Heavyweight Division', 'Heavyweight Division', 'Heavyweight Division', 'N/A', 'Flyweight Division', 'Heavyweight Division', 'Middleweight Division', 'Middleweight Division', 'Lightweight Division', \"Women's Flyweight Division\", 'Middleweight Division', 'N/A', 'Heavyweight Division', 'Light Heavyweight Division', 'Heavyweight Division', 'Heavyweight Division', 'Middleweight Division', 'Lightweight Division', '', 'Heavyweight Division', 'Lightweight Division', 'Middleweight Division', 'Middleweight Division', 'Lightweight Division', 'Welterweight Division', 'Light Heavyweight Division', 'Middleweight Division', 'Welterweight Division', 'Heavyweight Division', 'N/A', 'Welterweight Division', 'Lightweight Division', \"Women's Strawweight Division\", 'Lightweight Division', 'Heavyweight Division', 'Middleweight Division', '', 'Lightweight Division', 'Heavyweight Division', '', '', 'Lightweight Division', 'Middleweight Division', '', 'Middleweight Division', 'Lightweight Division', '', '', 'N/A', 'Middleweight Division', 'Lightweight Division', 'N/A', 'Bantamweight Division', 'Heavyweight Division', 'Heavyweight Division', 'N/A', 'N/A', 'N/A', 'Flyweight Division', 'Light Heavyweight Division', '', 'Welterweight Division', 'Heavyweight Division', 'Lightweight Division', 'Heavyweight Division', 'Flyweight Division', 'Heavyweight Division', 'Middleweight Division', 'N/A', '', 'Lightweight Division', 'Heavyweight Division', 'Lightweight Division', 'Welterweight Division', '', 'Heavyweight Division', 'N/A', 'Middleweight Division', '', 'Middleweight Division', 'Lightweight Division', 'N/A', 'Middleweight Division', 'Middleweight Division', 'Lightweight Division', 'Middleweight Division', 'N/A', 'N/A', 'N/A', '', 'Lightweight Division', 'N/A', '', 'Heavyweight Division', 'N/A', '', 'Middleweight Division', '', '', 'N/A', 'Light Heavyweight Division', 'Heavyweight Division', '', 'Lightweight Division', 'Bantamweight Division', 'Heavyweight Division', 'N/A', 'Lightweight Division', '', 'N/A', \"Women's Flyweight Division\", \"Women's Flyweight Division\", 'N/A', 'Heavyweight Division', 'Welterweight Division', 'Heavyweight Division', 'Heavyweight Division', 'Heavyweight Division', 'Light Heavyweight Division', 'Light Heavyweight Division', 'Lightweight Division', \"Women's Flyweight Division\", 'Middleweight Division', 'N/A', 'Lightweight Division', '', 'Middleweight Division', \"Women's Bantamweight Division\", 'N/A', 'Welterweight Division', '', 'Lightweight Division', 'N/A', 'N/A', 'N/A', '', 'Light Heavyweight Division', '', 'N/A', 'Welterweight Division', 'N/A', 'N/A', 'Lightweight Division', 'Light Heavyweight Division', '', 'N/A', 'N/A', 'N/A', 'N/A', 'Heavyweight Division', 'N/A', 'Middleweight Division', 'N/A', '', 'N/A', 'Light Heavyweight Division', 'Middleweight Division', '', 'Welterweight Division', 'Welterweight Division', 'N/A', '', 'Welterweight Division', 'Bantamweight Division', 'Welterweight Division', 'N/A', '', 'Lightweight Division', 'Lightweight Division', 'N/A', 'Light Heavyweight Division', 'Heavyweight Division', 'N/A', \"Women's Bantamweight Division\", 'Heavyweight Division', 'Heavyweight Division', '', '', 'N/A', 'Heavyweight Division', '', 'N/A', 'Heavyweight Division', 'Heavyweight Division', 'N/A', 'Heavyweight Division', 'N/A', 'Featherweight Division', 'Heavyweight Division', 'Flyweight Division', \"Women's Bantamweight Division\", 'Heavyweight Division', 'Heavyweight Division', 'N/A', 'Lightweight Division', '', 'Heavyweight Division', 'Welterweight Division', \"Women's Strawweight Division\", '', 'Light Heavyweight Division', 'Heavyweight Division', '', '', 'Heavyweight Division', 'Middleweight Division', \"Women's Strawweight Division\", 'Featherweight Division', 'Featherweight Division', 'N/A', 'Welterweight Division', 'Lightweight Division', '', 'Light Heavyweight Division', 'Welterweight Division', 'Heavyweight Division', 'N/A', 'Lightweight Division', 'Heavyweight Division', 'Heavyweight Division', 'N/A', 'Middleweight Division', 'Featherweight Division', 'Middleweight Division', 'Lightweight Division', 'N/A', 'Heavyweight Division', 'Lightweight Division', 'N/A', 'N/A', 'Lightweight Division', 'Light Heavyweight Division', 'Flyweight Division', 'Middleweight Division', 'Lightweight Division', 'Middleweight Division', 'Lightweight Division', 'Heavyweight Division', \"Women's Featherweight Division\"]\n",
      "['16-4-0 (W-L-D)', '9-1-0 (W-L-D)', '0-0-0 (W-L-D)', '16-4-0 (W-L-D)', '0-0-0 (W-L-D)', '8-3-0 (W-L-D)', 'N/A', 'N/A', '8-4-0 (W-L-D)', '0-0-0 (W-L-D)', '7-1-0 (W-L-D)', '0-0-0 (W-L-D)', '13-3-0 (W-L-D)', 'N/A', '17-9-0 (W-L-D)', 'N/A', '0-0-0 (W-L-D)', '8-5-0 (W-L-D)', '0-0-0 (W-L-D)', '13-2-0 (W-L-D)', '0-0-0 (W-L-D)', '0-0-0 (W-L-D)', '0-0-0 (W-L-D)', '15-8-0 (W-L-D)', '0-0-0 (W-L-D)', '5-1-0 (W-L-D)', '25-4-2 (W-L-D)', 'N/A', 'N/A', '4-5-0 (W-L-D)', 'N/A', '0-0-0 (W-L-D)', '15-3-0 (W-L-D)', 'N/A', '0-0-0 (W-L-D)', '4-1-0 (W-L-D)', 'N/A', '0-1-0 (W-L-D)', '10-2-0 (W-L-D)', '0-0-0 (W-L-D)', '5-1-0 (W-L-D)', 'N/A', '12-3-1 (W-L-D)', '0-0-0 (W-L-D)', '0-0-0 (W-L-D)', '0-0-0 (W-L-D)', '11-5-0 (W-L-D)', '24-17-3 (W-L-D)', '24-9-2 (W-L-D)', '9-3-0 (W-L-D)', 'N/A', '12-3-0 (W-L-D)', '0-0-0 (W-L-D)', '0-1-0 (W-L-D)', '10-6-0 (W-L-D)', 'N/A', 'N/A', '10-5-1 (W-L-D)', 'N/A', 'N/A', '10-5-0 (W-L-D)', '11-9-0 (W-L-D)', '0-0-0 (W-L-D)', '12-6-0 (W-L-D)', '5-3-0 (W-L-D)', '20-16-0 (W-L-D)', 'N/A', '8-2-0 (W-L-D)', '0-0-0 (W-L-D)', '9-3-0 (W-L-D)', '5-2-0 (W-L-D)', 'N/A', '0-0-0 (W-L-D)', '8-2-0 (W-L-D)', '0-1-0 (W-L-D)', '11-3-0 (W-L-D)', '8-2-0 (W-L-D)', '10-1-0 (W-L-D)', '13-2-1 (W-L-D)', '0-0-0 (W-L-D)', 'N/A', '8-5-0 (W-L-D)', 'N/A', '0-0-0 (W-L-D)', '15-4-1 (W-L-D)', '5-1-0 (W-L-D)', '0-0-0 (W-L-D)', 'N/A', '0-0-0 (W-L-D)', '0-0-0 (W-L-D)', '0-0-0 (W-L-D)', '8-3-1 (W-L-D)', '12-3-0 (W-L-D)', '15-7-1 (W-L-D)', '0-0-0 (W-L-D)', 'N/A', '0-0-0 (W-L-D)', 'N/A', '8-3-0 (W-L-D)', 'N/A', 'N/A', '0-0-0 (W-L-D)', '16-5-1 (W-L-D)', 'N/A', 'N/A', 'N/A', '23-7-0 (W-L-D)', 'N/A', 'N/A', '0-0-0 (W-L-D)', '0-0-0 (W-L-D)', '0-0-0 (W-L-D)', '0-0-0 (W-L-D)', '0-0-0 (W-L-D)', '10-2-0 (W-L-D)', 'N/A', '14-2-0 (W-L-D)', '0-0-0 (W-L-D)', '0-0-0 (W-L-D)', '0-0-0 (W-L-D)', 'N/A', '15-7-1 (W-L-D)', '12-2-0 (W-L-D)', '13-6-0 (W-L-D)', '7-3-0 (W-L-D)', '1-4-0 (W-L-D)', 'N/A', 'N/A', '6-5-0 (W-L-D)', 'N/A', '1-2-0 (W-L-D)', '0-0-0 (W-L-D)', '0-0-0 (W-L-D)', '16-3-2 (W-L-D)', 'N/A', '12-4-0 (W-L-D)', '0-0-0 (W-L-D)', '0-0-0 (W-L-D)', 'N/A', '13-5-1 (W-L-D)', '3-2-0 (W-L-D)', '0-0-0 (W-L-D)', '0-0-0 (W-L-D)', '14-5-1 (W-L-D)', '0-1-0 (W-L-D)', '23-10-0 (W-L-D)', 'N/A', '13-4-0 (W-L-D)', '12-1-0 (W-L-D)', '11-2-0 (W-L-D)', '0-1-0 (W-L-D)', '17-7-0 (W-L-D)', '19-11-0 (W-L-D)', '0-0-0 (W-L-D)', '0-0-0 (W-L-D)', '11-5-0 (W-L-D)', '26-16-0 (W-L-D)', '0-0-0 (W-L-D)', '17-5-0 (W-L-D)', '5-3-0 (W-L-D)', '4-2-0 (W-L-D)', '0-0-0 (W-L-D)', '21-5-0 (W-L-D)', '0-0-0 (W-L-D)', 'N/A', '0-0-0 (W-L-D)', '0-0-0 (W-L-D)', '6-4-0 (W-L-D)', '23-10-2 (W-L-D)', '0-0-0 (W-L-D)', '0-0-0 (W-L-D)', '0-0-0 (W-L-D)', '19-3-0 (W-L-D)', '0-0-0 (W-L-D)', '0-0-0 (W-L-D)', '0-0-0 (W-L-D)', '16-6-0 (W-L-D)', '0-0-0 (W-L-D)', '0-0-0 (W-L-D)', '22-11-0 (W-L-D)', '2-2-0 (W-L-D)', '0-0-0 (W-L-D)', '0-0-0 (W-L-D)', 'N/A', '16-3-0 (W-L-D)', '0-0-0 (W-L-D)', 'N/A', '6-2-0 (W-L-D)', '9-2-0 (W-L-D)', '18-5-0 (W-L-D)', 'N/A', 'N/A', 'N/A', '9-5-0 (W-L-D)', '0-1-0 (W-L-D)', '0-0-0 (W-L-D)', '18-4-0 (W-L-D)', '0-1-0 (W-L-D)', '22-5-0 (W-L-D)', '9-5-2 (W-L-D)', '24-10-0 (W-L-D)', '0-0-0 (W-L-D)', '8-2-0 (W-L-D)', 'N/A', '0-0-0 (W-L-D)', '4-1-0 (W-L-D)', '19-7-0 (W-L-D)', '16-9-0 (W-L-D)', '0-0-0 (W-L-D)', '0-0-0 (W-L-D)', '9-3-0 (W-L-D)', 'N/A', '0-0-0 (W-L-D)', '0-0-0 (W-L-D)', '9-1-1 (W-L-D)', '11-3-1 (W-L-D)', 'N/A', '0-0-0 (W-L-D)', '0-0-0 (W-L-D)', '8-1-0 (W-L-D)', '15-6-0 (W-L-D)', 'N/A', 'N/A', 'N/A', '0-0-0 (W-L-D)', '22-7-0 (W-L-D)', 'N/A', '0-0-0 (W-L-D)', '13-3-0 (W-L-D)', 'N/A', '0-0-0 (W-L-D)', '17-2-0 (W-L-D)', '0-0-0 (W-L-D)', '0-0-0 (W-L-D)', 'N/A', '7-4-0 (W-L-D)', '9-7-0 (W-L-D)', '0-0-0 (W-L-D)', '8-3-0 (W-L-D)', '17-4-0 (W-L-D)', '0-1-0 (W-L-D)', 'N/A', '10-2-0 (W-L-D)', '0-0-0 (W-L-D)', 'N/A', '13-5-0 (W-L-D)', '12-8-1 (W-L-D)', 'N/A', '6-6-0 (W-L-D)', '9-3-0 (W-L-D)', '0-0-0 (W-L-D)', '7-2-0 (W-L-D)', '5-1-0 (W-L-D)', '12-3-0 (W-L-D)', '7-1-0 (W-L-D)', '0-0-0 (W-L-D)', '11-7-0 (W-L-D)', '0-0-0 (W-L-D)', 'N/A', '13-1-0 (W-L-D)', '0-0-0 (W-L-D)', '0-0-0 (W-L-D)', '2-1-0 (W-L-D)', 'N/A', '10-3-0 (W-L-D)', '0-0-0 (W-L-D)', '0-0-0 (W-L-D)', 'N/A', 'N/A', 'N/A', '0-0-0 (W-L-D)', '7-2-0 (W-L-D)', '0-0-0 (W-L-D)', 'N/A', '10-4-0 (W-L-D)', 'N/A', 'N/A', '3-1-1 (W-L-D)', '4-3-0 (W-L-D)', '0-0-0 (W-L-D)', 'N/A', 'N/A', 'N/A', 'N/A', '4-1-0 (W-L-D)', 'N/A', '0-0-0 (W-L-D)', 'N/A', '0-0-0 (W-L-D)', 'N/A', '0-0-0 (W-L-D)', '13-8-0 (W-L-D)', '0-0-0 (W-L-D)', '18-4-0 (W-L-D)', '16-6-0 (W-L-D)', 'N/A', '0-0-0 (W-L-D)', '13-3-0 (W-L-D)', '10-2-0 (W-L-D)', '5-1-0 (W-L-D)', 'N/A', '0-0-0 (W-L-D)', '14-3-0 (W-L-D)', '0-0-0 (W-L-D)', 'N/A', '0-0-0 (W-L-D)', '0-0-0 (W-L-D)', 'N/A', '13-6-0 (W-L-D)', '0-0-0 (W-L-D)', '6-0-0 (W-L-D)', '0-0-0 (W-L-D)', '0-0-0 (W-L-D)', 'N/A', '6-2-0 (W-L-D)', '0-0-0 (W-L-D)', 'N/A', '1-1-0 (W-L-D)', '10-2-0 (W-L-D)', 'N/A', '26-9-1 (W-L-D)', 'N/A', '10-6-0 (W-L-D)', '11-2-0 (W-L-D)', '13-9-0 (W-L-D)', '10-6-1 (W-L-D)', '0-0-0 (W-L-D)', '0-0-0 (W-L-D)', 'N/A', '12-3-0 (W-L-D)', '0-0-0 (W-L-D)', '0-0-0 (W-L-D)', '4-0-0 (W-L-D)', '6-3-0 (W-L-D)', '0-0-0 (W-L-D)', '20-10-1 (W-L-D)', '0-0-0 (W-L-D)', '0-0-0 (W-L-D)', '0-0-0 (W-L-D)', '11-4-1 (W-L-D)', '12-6-0 (W-L-D)', '5-1-0 (W-L-D)', '17-10-0 (W-L-D)', '12-5-0 (W-L-D)', 'N/A', '16-9-0 (W-L-D)', '0-0-0 (W-L-D)', '0-0-0 (W-L-D)', '10-7-0 (W-L-D)', '4-1-0 (W-L-D)', '0-0-0 (W-L-D)', 'N/A', '0-0-0 (W-L-D)', '16-4-0 (W-L-D)', '0-0-0 (W-L-D)', 'N/A', '0-0-0 (W-L-D)', '11-3-0 (W-L-D)', '0-0-0 (W-L-D)', '8-1-0 (W-L-D)', 'N/A', '4-2-0 (W-L-D)', '0-0-0 (W-L-D)', 'N/A', 'N/A', '0-0-0 (W-L-D)', '12-2-0 (W-L-D)', '12-7-0 (W-L-D)', '20-11-0 (W-L-D)', '0-0-0 (W-L-D)', '20-12-1 (W-L-D)', '0-0-0 (W-L-D)', '0-2-0 (W-L-D)', '6-5-0 (W-L-D)']\n"
     ]
    }
   ],
   "source": [
    "# print(lstr_acc)\n",
    "# print(ltkd_acc)\n",
    "# print(lavg_kdft)\n",
    "# print(lstr_by_pos)\n",
    "# print(lstr_by_tar)\n",
    "# print(lwin_meth)\n",
    "print(lnum_of_fights)\n",
    "print(lfight_style)"
   ]
  },
  {
   "cell_type": "code",
   "execution_count": 9,
   "id": "a1f78c83",
   "metadata": {},
   "outputs": [],
   "source": [
    "ufc_statsnrecords_1 = pd.DataFrame({'fighter_name': fighter_list,\n",
    "#                                 'strikes_acc': lstr_acc,\n",
    "#                                 'tkd_acc': ltkd_acc,\n",
    "#                                 'avg_kd_ft': lavg_kdft,\n",
    "#                                 'str_by_pos': lstr_by_pos,\n",
    "#                                 'str_by_tar': lstr_by_tar,\n",
    "#                                 'win_meth': lwin_meth,\n",
    "                                'division': lnum_of_fights,\n",
    "                                'fight_style': lfight_style\n",
    "})\n",
    "\n",
    "ufc_statsnrecords_1.head()\n",
    "ufc_statsnrecords_1.to_excel('data/div_data.xlsx', index=False)"
   ]
  }
 ],
 "metadata": {
  "kernelspec": {
   "display_name": "Python 3 (ipykernel)",
   "language": "python",
   "name": "python3"
  },
  "language_info": {
   "codemirror_mode": {
    "name": "ipython",
    "version": 3
   },
   "file_extension": ".py",
   "mimetype": "text/x-python",
   "name": "python",
   "nbconvert_exporter": "python",
   "pygments_lexer": "ipython3",
   "version": "3.9.0"
  }
 },
 "nbformat": 4,
 "nbformat_minor": 5
}
