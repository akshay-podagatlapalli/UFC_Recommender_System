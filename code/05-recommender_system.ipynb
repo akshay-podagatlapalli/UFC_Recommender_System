{
 "cells": [
  {
   "cell_type": "code",
   "execution_count": 2,
   "id": "18d9fe8f",
   "metadata": {},
   "outputs": [
    {
     "data": {
      "application/vnd.jupyter.widget-view+json": {
       "model_id": "7e1064d495c34f3497412fdf7664db07",
       "version_major": 2,
       "version_minor": 0
      },
      "text/plain": [
       "Button(description='Run Cells Below', style=ButtonStyle())"
      ]
     },
     "metadata": {},
     "output_type": "display_data"
    },
    {
     "data": {
      "application/vnd.jupyter.widget-view+json": {
       "model_id": "90158dee340e44a79604e26dd544d7bb",
       "version_major": 2,
       "version_minor": 0
      },
      "text/plain": [
       "Output()"
      ]
     },
     "metadata": {},
     "output_type": "display_data"
    }
   ],
   "source": [
    "%run functions.py\n",
    "run()"
   ]
  },
  {
   "cell_type": "code",
   "execution_count": 3,
   "id": "e7c3fd6a",
   "metadata": {},
   "outputs": [
    {
     "data": {
      "text/html": [
       "<script>\n",
       "code_show=true; \n",
       "function code_toggle() {\n",
       " if (code_show){\n",
       " $('div.input').hide();\n",
       " } else {\n",
       " $('div.input').show();\n",
       " }\n",
       " code_show = !code_show\n",
       "} \n",
       "$( document ).ready(code_toggle);\n",
       "</script>\n",
       "The raw code for this IPython notebook is by default hidden for easier reading.\n",
       "To toggle on/off the raw code, click <a href=\"javascript:code_toggle()\">here</a>."
      ],
      "text/plain": [
       "<IPython.core.display.HTML object>"
      ]
     },
     "execution_count": 3,
     "metadata": {},
     "output_type": "execute_result"
    }
   ],
   "source": [
    "# importing the necessary libraries\n",
    "import warnings\n",
    "import pandas as pd\n",
    "from sklearn.metrics.pairwise import cosine_similarity\n",
    "import ipywidgets as widgets\n",
    "from IPython.display import display, clear_output, Javascript, HTML\n",
    "###############################################################################################\n",
    "###############################################################################################\n",
    "HTML('''<script>\n",
    "code_show=true; \n",
    "function code_toggle() {\n",
    " if (code_show){\n",
    " $('div.input').hide();\n",
    " } else {\n",
    " $('div.input').show();\n",
    " }\n",
    " code_show = !code_show\n",
    "} \n",
    "$( document ).ready(code_toggle);\n",
    "</script>\n",
    "The raw code for this IPython notebook is by default hidden for easier reading.\n",
    "To toggle on/off the raw code, click <a href=\"javascript:code_toggle()\">here</a>.''')\n",
    "###############################################################################################\n",
    "###############################################################################################"
   ]
  },
  {
   "cell_type": "code",
   "execution_count": 4,
   "id": "a33e8e6d",
   "metadata": {
    "scrolled": false
   },
   "outputs": [],
   "source": [
    "# loading in the data\n",
    "data = pd.read_excel(\"../data_i/processed/i_final.xlsx\", index_col=0, sheet_name='Sheet3')\n",
    "scores = pd.read_excel(\"../data_i/processed/i_loading_scores.xlsx\", index_col=0)\n",
    "\n",
    "# creating the list to store the values from the questions being asked\n",
    "responses = {}\n",
    "norm_weight = []\n",
    "\n",
    "# Defining the Likert scale options\n",
    "options1 = list(data['division'].unique())\n",
    "options2 = [1, 2, 3]\n",
    "#options2 = [1, 2, 3, 4, 5, 6, 7, 8, 9]\n",
    "options3 = [1, 2, 3, 4, 5, 6, 7, 8, 9, 10]\n",
    "\n",
    "# defining weights to all possible responses that can be given by the user\n",
    "# for responses in the range [0.0, 0.5] and [0.6, 1.0], weight is defined between [6, 2] respectively \n",
    "weight_dict = {0.0: 6, 0.1: 5, 0.2: 4, 0.3: 3, 0.4: 2, 0.5: 1, \n",
    "               0.6: 2, 0.7: 3, 0.8: 4, 0.9: 5, 1.0: 6}\n",
    "\n",
    "# the features that will be weighted based on the responses provided by the user. \n",
    "weighted_features_1 = [['KD', 'SIG_STR_pct', 'SLpM', 'Str_Acc', 'win_by_KO/TKO'],\n",
    "                     ['SUB_ATT', 'TD_Avg', 'TD_Acc', 'pct_TD', 'win_by_Submission']]\n",
    "\n",
    "weighted_features_2 = [['SApM', 'DIST_pct', 'Str_Def', 'fight_time', 'TD_Def'], \n",
    "                       ['Str_Acc', 'TD_Avg', 'TD_Acc', 'CTRL_RT', 'win_by_Submission']]\n",
    "\n",
    "weighted_features_3 = [['pct_LEG', 'pct_BODY', 'pct_HEAD', 'win_by_KO/TKO', 'win_by_Decision_Unanimous',\n",
    "                       'win_by_Decision_Majority'], \n",
    "                       ['Sub_Avg', 'SUB_ATT', 'TD_Def', 'TD_Def', 'SApM', 'win_by_Submission']]"
   ]
  },
  {
   "cell_type": "markdown",
   "id": "6a24b6aa",
   "metadata": {},
   "source": [
    "# UFC Recommender System"
   ]
  },
  {
   "cell_type": "markdown",
   "id": "f268fdeb",
   "metadata": {},
   "source": [
    "## Question 1: \n",
    "</h3>Select your preferred weight class or division:</h3>"
   ]
  },
  {
   "cell_type": "code",
   "execution_count": 5,
   "id": "686bd93e",
   "metadata": {},
   "outputs": [
    {
     "data": {
      "application/vnd.jupyter.widget-view+json": {
       "model_id": "3dd065b2a92641808e6e5f2eb8fb915e",
       "version_major": 2,
       "version_minor": 0
      },
      "text/plain": [
       "Dropdown(layout=Layout(width='800px'), options=('Lightweight Division', 'Heavyweight Division', 'Bantamweight …"
      ]
     },
     "metadata": {},
     "output_type": "display_data"
    }
   ],
   "source": [
    "widgets_config = {'layout': {'width': '800px'}}\n",
    "\n",
    "def handle_likert_scale1_change(change):\n",
    "    responses['question1'] = change.new\n",
    "likert_scale1 = widgets.Dropdown(options=options1, **widgets_config)\n",
    "likert_scale1.observe(handle_likert_scale1_change, names='value')\n",
    "display(likert_scale1)"
   ]
  },
  {
   "cell_type": "markdown",
   "id": "1aace0e9",
   "metadata": {},
   "source": [
    "## Question 2: \n",
    "</h3>Rate your preference for a balanced [1], Striking heavy [2], or a Wrestling heavy [3] fighter</h3>"
   ]
  },
  {
   "cell_type": "code",
   "execution_count": 6,
   "id": "781e1936",
   "metadata": {},
   "outputs": [
    {
     "data": {
      "application/vnd.jupyter.widget-view+json": {
       "model_id": "4439ed4e95fe4cb392b1986a4305223c",
       "version_major": 2,
       "version_minor": 0
      },
      "text/plain": [
       "IntSlider(value=1, layout=Layout(width='800px'), max=3, min=1)"
      ]
     },
     "metadata": {},
     "output_type": "display_data"
    }
   ],
   "source": [
    "def handle_likert_scale2_change(change):\n",
    "    responses['question2'] = change.new\n",
    "likert_scale2 = widgets.IntSlider(min=1, max=3, **widgets_config)\n",
    "likert_scale2.observe(handle_likert_scale2_change, names='value')\n",
    "display(likert_scale2)"
   ]
  },
  {
   "cell_type": "markdown",
   "id": "e5c4d5b7",
   "metadata": {},
   "source": [
    "## Question 3: \n",
    "\n",
    "</h3>Are you more interested in fighters who excel in striking and have a \n",
    "high percentage of significant strikes landed, or fighters who focus more \n",
    "on grappling and takedowns, with a high average number of takedowns per fight?</h3>"
   ]
  },
  {
   "cell_type": "code",
   "execution_count": 7,
   "id": "2f09fa74",
   "metadata": {},
   "outputs": [
    {
     "data": {
      "application/vnd.jupyter.widget-view+json": {
       "model_id": "0fcefb3784c743618607665049ca6283",
       "version_major": 2,
       "version_minor": 0
      },
      "text/plain": [
       "IntSlider(value=0, layout=Layout(width='800px'), max=10)"
      ]
     },
     "metadata": {},
     "output_type": "display_data"
    }
   ],
   "source": [
    "def handle_likert_scale3_change(change):\n",
    "    responses['question3'] = change.new\n",
    "likert_scale3 = widgets.IntSlider(min=0, max=10, **widgets_config)\n",
    "likert_scale3.observe(handle_likert_scale3_change, names='value')\n",
    "display(likert_scale3)"
   ]
  },
  {
   "cell_type": "markdown",
   "id": "e507a6a0",
   "metadata": {},
   "source": [
    "## Question 4:\n",
    "</h3>Are you more interested in fighters who have a strong defensive game, \n",
    "with high striking defense and are difficult to be taken down, \n",
    "or fighters who have an aggressive style, and a high knockout-to-win ratio?</h3>"
   ]
  },
  {
   "cell_type": "code",
   "execution_count": 8,
   "id": "1686c6bc",
   "metadata": {},
   "outputs": [
    {
     "data": {
      "application/vnd.jupyter.widget-view+json": {
       "model_id": "8c10060f8fe54aaf82639ce71680f6e2",
       "version_major": 2,
       "version_minor": 0
      },
      "text/plain": [
       "IntSlider(value=0, layout=Layout(width='800px'), max=10)"
      ]
     },
     "metadata": {},
     "output_type": "display_data"
    }
   ],
   "source": [
    "def handle_likert_scale4_change(change):\n",
    "    responses['question4'] = change.new\n",
    "likert_scale4 = widgets.IntSlider(min=0, max=10, **widgets_config)\n",
    "likert_scale4.observe(handle_likert_scale4_change, names='value')\n",
    "display(likert_scale4)"
   ]
  },
  {
   "cell_type": "markdown",
   "id": "7827a6e5",
   "metadata": {},
   "source": [
    "## Question 5: \n",
    "</h3>Do you prefer fighters who have a well-rounded game, with good performance in \n",
    "all areas and a balanced win distribution across various methods ('Decisions, KO/TKOs,\n",
    "Submissions) or fighters who specialize in specific techniques or styles, with a \n",
    "high percentage of wins by submission?</h3>"
   ]
  },
  {
   "cell_type": "code",
   "execution_count": 9,
   "id": "6b99a74f",
   "metadata": {},
   "outputs": [
    {
     "data": {
      "application/vnd.jupyter.widget-view+json": {
       "model_id": "95df9eda3456417a8cb8a54d60665010",
       "version_major": 2,
       "version_minor": 0
      },
      "text/plain": [
       "IntSlider(value=0, layout=Layout(width='800px'), max=10)"
      ]
     },
     "metadata": {},
     "output_type": "display_data"
    }
   ],
   "source": [
    "def handle_likert_scale5_change(change):\n",
    "    responses['question5'] = change.new\n",
    "likert_scale5 = widgets.IntSlider(min=0, max=10, **widgets_config)\n",
    "likert_scale5.observe(handle_likert_scale5_change, names='value')\n",
    "display(likert_scale5)"
   ]
  },
  {
   "cell_type": "code",
   "execution_count": 14,
   "id": "ef754f74",
   "metadata": {},
   "outputs": [
    {
     "data": {
      "application/vnd.jupyter.widget-view+json": {
       "model_id": "eea4050f652d4dbd88fe6f69fdbd035c",
       "version_major": 2,
       "version_minor": 0
      },
      "text/plain": [
       "Button(description='See Results', style=ButtonStyle())"
      ]
     },
     "metadata": {},
     "output_type": "display_data"
    },
    {
     "data": {
      "application/vnd.jupyter.widget-view+json": {
       "model_id": "e49f0b950c33478aa328a7b15a9eb898",
       "version_major": 2,
       "version_minor": 0
      },
      "text/plain": [
       "Output()"
      ]
     },
     "metadata": {},
     "output_type": "display_data"
    }
   ],
   "source": [
    "create_button_widget()"
   ]
  },
  {
   "cell_type": "code",
   "execution_count": 15,
   "id": "16618214",
   "metadata": {},
   "outputs": [],
   "source": [
    "# get the values for the last three keys into a list,\n",
    "# then scale the values to a [0, 1] range\n",
    "pca_values = [x/10 for x in list(responses.values())[2::]]"
   ]
  },
  {
   "cell_type": "code",
   "execution_count": 16,
   "id": "891d6a92",
   "metadata": {},
   "outputs": [],
   "source": [
    "for i, x in enumerate(pca_values):\n",
    "    if i == 0:\n",
    "        norm_weight.append(weight_dict[x])\n",
    "        if x > 0.5:\n",
    "            scores.loc[weighted_features_1[1], 'Component 1'] *= weight_dict[x] \n",
    "            scores.loc[weighted_features_1[0], 'Component 1'] /= weight_dict[x]\n",
    "        else:\n",
    "            scores.loc[weighted_features_1[1], 'Component 1'] /= weight_dict[x] \n",
    "            scores.loc[weighted_features_1[0], 'Component 1'] *= weight_dict[x]\n",
    "    elif i == 1:\n",
    "        norm_weight.append(weight_dict[x])\n",
    "        if x > 0.5:\n",
    "            scores.loc[weighted_features_2[0], 'Component 2'] *= weight_dict[x] \n",
    "            scores.loc[weighted_features_2[1], 'Component 2'] /= weight_dict[x]\n",
    "        else:\n",
    "            scores.loc[weighted_features_2[0], 'Component 2'] /= weight_dict[x] \n",
    "            scores.loc[weighted_features_2[1], 'Component 2'] *= weight_dict[x]\n",
    "    else:\n",
    "        norm_weight.append(weight_dict[x])\n",
    "        if x > 0.5:\n",
    "            scores.loc[weighted_features_3[0], 'Component 3'] *= weight_dict[x] \n",
    "            scores.loc[weighted_features_3[1], 'Component 3'] /= weight_dict[x]\n",
    "        else:\n",
    "            scores.loc[weighted_features_3[0], 'Component 3'] /= weight_dict[x] \n",
    "            scores.loc[weighted_features_3[1], 'Component 3'] *= weight_dict[x]"
   ]
  },
  {
   "cell_type": "code",
   "execution_count": 17,
   "id": "52ed2d54",
   "metadata": {
    "scrolled": false
   },
   "outputs": [],
   "source": [
    "# Filter DataFrame based on the first question\n",
    "filtered_df = data[data['division'] == responses['question1']]\n",
    "\n",
    "# Filter the resulting DataFrame based on the second value\n",
    "filtered_df = filtered_df[filtered_df['lab_num'] == responses['question2']]\n",
    "filtered_df = filtered_df.loc[:, scores.index.tolist()] \n",
    "\n",
    "# # the combined sum of the 3 weighted loading scores is calculated\n",
    "# # and added to the scores df as a column\n",
    "scores['Sum'] = (scores['Component 1'] + scores['Component 2'] + scores['Component 3']) / sum(norm_weight)\n",
    "scoresT = scores.T\n",
    "\n",
    "# # the 'Sum' column is being added to the fighter's dataframe\n",
    "warnings.filterwarnings(\"ignore\", category=FutureWarning)\n",
    "filtered_df = filtered_df.append(scoresT.iloc[-1])\n",
    "\n",
    "# # vectors defined to perform the cosine similarity calculation \n",
    "vector1 = filtered_df.loc['Sum'].values.reshape(1, -1)\n",
    "vector2 = filtered_df.values\n",
    "\n",
    "# Calculate cosine similarity\n",
    "similarity_matrix = cosine_similarity(vector1, vector2)\n",
    "\n",
    "# Add similarity scores as a new column in the merged dataframe\n",
    "filtered_df['Rank'] = similarity_matrix.flatten()"
   ]
  },
  {
   "cell_type": "markdown",
   "id": "c438da41",
   "metadata": {},
   "source": [
    "### The recommended Fighters are:"
   ]
  },
  {
   "cell_type": "code",
   "execution_count": 19,
   "id": "1be1afc6",
   "metadata": {},
   "outputs": [
    {
     "data": {
      "text/html": [
       "<span style='font-size:14pt; font-weight:bold; color:blue'>Ivan Serati, Harry Hunsucker, Mark Striegl, Vernon Ramos Ho, Rex Holman</span>"
      ],
      "text/plain": [
       "<IPython.core.display.HTML object>"
      ]
     },
     "metadata": {},
     "output_type": "display_data"
    }
   ],
   "source": [
    "recommended_fighters = filtered_df.drop(filtered_df.index[-1])\n",
    "recommended_fighters = recommended_fighters['Rank'].nlargest(5)\n",
    "\n",
    "index_values =', '.join(map(str, recommended_fighters.index))\n",
    "\n",
    "formatted_output = f\"<span style='font-size:14pt; font-weight:bold; color:blue'>{index_values}</span>\"\n",
    "display(HTML(formatted_output))"
   ]
  }
 ],
 "metadata": {
  "kernelspec": {
   "display_name": "Python 3 (ipykernel)",
   "language": "python",
   "name": "python3"
  },
  "language_info": {
   "codemirror_mode": {
    "name": "ipython",
    "version": 3
   },
   "file_extension": ".py",
   "mimetype": "text/x-python",
   "name": "python",
   "nbconvert_exporter": "python",
   "pygments_lexer": "ipython3",
   "version": "3.9.0"
  }
 },
 "nbformat": 4,
 "nbformat_minor": 5
}
