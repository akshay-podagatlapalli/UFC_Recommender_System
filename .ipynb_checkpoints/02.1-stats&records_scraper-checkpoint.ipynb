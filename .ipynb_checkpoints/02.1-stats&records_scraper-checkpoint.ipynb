{
 "cells": [
  {
   "cell_type": "code",
   "execution_count": 1,
   "id": "9e21b106",
   "metadata": {},
   "outputs": [],
   "source": [
    "# importing the necessary libaries\n",
    "import os\n",
    "from selenium import webdriver\n",
    "from selenium.webdriver.chrome.options import Options\n",
    "from selenium.common.exceptions import NoSuchElementException\n",
    "from selenium.webdriver.common.by import By\n",
    "import pandas as pd\n",
    "from tqdm import tqdm\n",
    "import re\n",
    "import time"
   ]
  },
  {
   "cell_type": "code",
   "execution_count": 4,
   "id": "13e11063",
   "metadata": {},
   "outputs": [],
   "source": [
    "# loading in the path for the chrome selenium driver\n",
    "os.environ['PATH'] += r'C:/SeleniumDrivers/chromedriver_win32'\n",
    "\n",
    "# loading in the dataset \n",
    "data = pd.read_excel('final.xlsx', sheet_name='fight_names')\n",
    "fighter_data = data.copy()"
   ]
  },
  {
   "cell_type": "code",
   "execution_count": 5,
   "id": "1d00457e",
   "metadata": {},
   "outputs": [
    {
     "name": "stdout",
     "output_type": "stream",
     "text": [
      "6\n",
      "[nan, nan, nan, nan, nan, nan]\n"
     ]
    }
   ],
   "source": [
    "list1 = list(fighter_data['raw_fighter_names'])\n",
    "list2 = list(fighter_data['fighter_names'])\n",
    "\n",
    "not_in_list2 = []\n",
    "for element in list1:\n",
    "    if element not in list2:\n",
    "        not_in_list2.append(element)\n",
    "\n",
    "print(len(not_in_list2))\n",
    "print(not_in_list2)"
   ]
  },
  {
   "cell_type": "code",
   "execution_count": null,
   "id": "af790128",
   "metadata": {},
   "outputs": [],
   "source": [
    "# Create a series that you want to export to the Excel file\n",
    "new_fighters_list = pd.Series(not_in_list2)\n",
    "\n",
    "# Export the series to the 'Series' sheet in the Excel file\n",
    "with pd.ExcelWriter('spot_check.xlsx', mode='a') as writer:\n",
    "    new_fighters_list.to_excel(writer, sheet_name='Series_1', index=False)"
   ]
  },
  {
   "cell_type": "code",
   "execution_count": null,
   "id": "2e1d3447",
   "metadata": {},
   "outputs": [],
   "source": [
    "# setting up a few additional parameters\n",
    "options = Options()\n",
    "options.headless = True\n",
    "options.add_argument(\"--window-size=1920,1200\")"
   ]
  },
  {
   "cell_type": "code",
   "execution_count": null,
   "id": "452383d8",
   "metadata": {},
   "outputs": [],
   "source": [
    "# obtaining a list of the fighters and converting their names to\n",
    "# match with the UFC URL path \n",
    "\n",
    "fighter_list = fighter_data['fighter_names'].dropna().tolist()\n",
    "# # for i, j in enumerate(fighter_list):\n",
    "# #     fighter_list[i] = j.lower().replace(' ', '-')\n",
    "print(len(fighter_list))\n",
    "#fighter_list = ['ben-sosoli']"
   ]
  },
  {
   "cell_type": "code",
   "execution_count": null,
   "id": "1bc0750d",
   "metadata": {},
   "outputs": [],
   "source": [
    "lstr_acc = []\n",
    "ltkd_acc = []\n",
    "lavg_kdft = []\n",
    "lstr_by_pos = []\n",
    "lstr_by_tar = []\n",
    "lwin_meth = []\n",
    "lnum_of_fights = []\n",
    "lstatus = []"
   ]
  },
  {
   "cell_type": "code",
   "execution_count": null,
   "id": "76c0cb54",
   "metadata": {},
   "outputs": [],
   "source": [
    "str_acc = '//*[@id=\"block-mainpagecontent\"]/div/div/div/div[3]/div/div/div[2]/div[2]/div/div[2]/div[2]'\n",
    "tkd_acc = '//*[@id=\"block-mainpagecontent\"]/div/div/div/div[3]/div/div/div[2]/div[3]/div/div[2]/div[2]'\n",
    "avg_kd_ft = '//*[@id=\"block-mainpagecontent\"]/div/div/div/div[3]/div/div/div[2]/div[5]/div/div[3]'\n",
    "str_by_pos = '//*[@id=\"block-mainpagecontent\"]/div/div/div/div[3]/div/div/div[2]/div[6]/div/div/div'\n",
    "str_by_tar = '//*[@id=\"block-mainpagecontent\"]/div/div/div/div[3]/div/div/div[2]/div[7]/div/div'\n",
    "win_meth = '//*[@id=\"block-mainpagecontent\"]/div/div/div/div[3]/div/div/div[2]/div[8]/div/div/div'\n",
    "\n",
    "# num_of_fights = '//*[@id=\"block-mainpagecontent\"]/div/div/div/div[1]/div/div/div[1]/div[2]'"
   ]
  },
  {
   "cell_type": "code",
   "execution_count": null,
   "id": "8ca970be",
   "metadata": {},
   "outputs": [],
   "source": [
    "driver = webdriver.Chrome(options=options)\n",
    "\n",
    "with tqdm(total=len(fighter_list)) as pbar:\n",
    "    for fighter_name in fighter_list:\n",
    "        driver.get('https://ufc.com/athlete/' + fighter_name)\n",
    "#         time.sleep(5)\n",
    "        try:\n",
    "            sl = driver.find_element(by=By.XPATH, value=str_acc)\n",
    "            sa = driver.find_element(by=By.XPATH, value=tkd_acc)\n",
    "            kdft = driver.find_element(by=By.XPATH, value=avg_kd_ft)\n",
    "            ta = driver.find_element(by=By.XPATH, value=str_by_pos)\n",
    "            akf = driver.find_element(by=By.XPATH, value=str_by_tar)\n",
    "            ssp = driver.find_element(by=By.XPATH, value=win_meth)\n",
    "#             nof = driver.find_element(by=By.XPATH, value=num_of_fights)\n",
    "            lstr_acc.append(sl.text)\n",
    "            ltkd_acc.append(sa.text)\n",
    "            lavg_kdft.append(kdft.text)\n",
    "            lstr_by_pos.append(ta.text)\n",
    "            lstr_by_tar.append(akf.text)\n",
    "            lwin_meth.append(ssp.text)\n",
    "#             lnum_of_fights.append(nof.text)\n",
    "        except NoSuchElementException:\n",
    "            found = False\n",
    "            lstr_acc.append(\"N/A\")\n",
    "            ltkd_acc.append(\"N/A\")\n",
    "            lavg_kdft.append(\"N/A\")\n",
    "            lstr_by_pos.append(\"N/A\")\n",
    "            lstr_by_tar.append(\"N/A\")\n",
    "            lwin_meth.append(\"N/A\")\n",
    "#             lnum_of_fights.append(\"N/A\")\n",
    "        pbar.update(1) \n",
    "\n",
    "driver.quit()"
   ]
  },
  {
   "cell_type": "code",
   "execution_count": null,
   "id": "e8293a0c",
   "metadata": {},
   "outputs": [],
   "source": [
    "print(lstr_acc)\n",
    "print(ltkd_acc)\n",
    "print(lavg_kdft)\n",
    "print(lstr_by_pos)\n",
    "print(lstr_by_tar)\n",
    "print(lwin_meth)\n",
    "# print(lnum_of_fights)"
   ]
  },
  {
   "cell_type": "code",
   "execution_count": null,
   "id": "a1f78c83",
   "metadata": {},
   "outputs": [],
   "source": [
    "ufc_statsnrecords_1 = pd.DataFrame({'fighter_name': fighter_list,\n",
    "                                'strikes_acc': lstr_acc,\n",
    "                                'tkd_acc': ltkd_acc,\n",
    "                                'avg_kd_ft': lavg_kdft,\n",
    "                                'str_by_pos': lstr_by_pos,\n",
    "                                'str_by_tar': lstr_by_tar,\n",
    "                                'win_meth': lwin_meth,\n",
    "#                                 'division': lnum_of_fights \n",
    "})\n",
    "\n",
    "ufc_statsnrecords_1.head()\n",
    "ufc_statsnrecords_1.to_csv('ufc_statsnrecords_1.csv', index=False)"
   ]
  }
 ],
 "metadata": {
  "kernelspec": {
   "display_name": "Python 3 (ipykernel)",
   "language": "python",
   "name": "python3"
  },
  "language_info": {
   "codemirror_mode": {
    "name": "ipython",
    "version": 3
   },
   "file_extension": ".py",
   "mimetype": "text/x-python",
   "name": "python",
   "nbconvert_exporter": "python",
   "pygments_lexer": "ipython3",
   "version": "3.9.0"
  }
 },
 "nbformat": 4,
 "nbformat_minor": 5
}
