{
 "cells": [
  {
   "cell_type": "code",
   "execution_count": 1,
   "id": "d7fd349e",
   "metadata": {},
   "outputs": [
    {
     "data": {
      "application/vnd.jupyter.widget-view+json": {
       "model_id": "b79a46da5e58463b92b0943ed90440db",
       "version_major": 2,
       "version_minor": 0
      },
      "text/plain": [
       "Button(description='See Results', style=ButtonStyle())"
      ]
     },
     "metadata": {},
     "output_type": "display_data"
    },
    {
     "data": {
      "application/vnd.jupyter.widget-view+json": {
       "model_id": "6a28700e54a249078408e292bf9dfbf0",
       "version_major": 2,
       "version_minor": 0
      },
      "text/plain": [
       "Output()"
      ]
     },
     "metadata": {},
     "output_type": "display_data"
    }
   ],
   "source": [
    "%run functions.py\n",
    "create_button_widget()"
   ]
  },
  {
   "cell_type": "code",
   "execution_count": 2,
   "id": "1217594d",
   "metadata": {},
   "outputs": [],
   "source": [
    "# importing the necessary libraries\n",
    "import warnings\n",
    "import pandas as pd\n",
    "from sklearn.metrics.pairwise import cosine_similarity\n",
    "import ipywidgets as widgets\n",
    "from IPython.display import display, clear_output, Javascript, HTML"
   ]
  },
  {
   "cell_type": "code",
   "execution_count": 3,
   "id": "6ae9e0aa",
   "metadata": {},
   "outputs": [],
   "source": [
    "# questions being asked\n",
    "question1 = 'Rate your preference for Striking [1] vs. Wrestling [9]'\n",
    "\n",
    "question2 = 'Select your preferred weight class or division:'\n",
    "\n",
    "question3 = \"\"\"Are you more interested in fighters who excel in striking and have a \n",
    "            high percentage of significant strikes landed, or fighters who focus more \n",
    "            on grappling and takedowns, with a high average number of takedowns per fight?\"\"\"\n",
    "\n",
    "question4 = \"\"\"Are you more interested in fighters who have a strong defensive game, \n",
    "               with high striking defense and are difficult to be taken down, \n",
    "               or fighters who have an aggressive style, and a high knockout-to-win ratio?\"\"\"\n",
    "\n",
    "question5 = \"\"\"Do you prefer fighters who have a well-rounded game, with good performance in \n",
    "               all areas and a balanced win distribution across various methods ('Decisions, KO/TKOs,\n",
    "               Submissions) or fighters who specialize in specific techniques or styles, with a \n",
    "               high percentage of wins by submission?\"\"\""
   ]
  },
  {
   "cell_type": "code",
   "execution_count": 4,
   "id": "a33e8e6d",
   "metadata": {
    "scrolled": false
   },
   "outputs": [],
   "source": [
    "# loading in the data\n",
    "data = pd.read_excel(\"data_i/i_final.xlsx\", index_col=0)\n",
    "scores = pd.read_excel(\"data_i/i_loading_scores.xlsx\", index_col=0)\n",
    "\n",
    "# creating the list to store the values from the questions being asked\n",
    "responses = {}\n",
    "norm_weight = []\n",
    "\n",
    "# Defining the Likert scale options\n",
    "options1 = [1, 2, 3, 4, 5, 6, 7, 8, 9]\n",
    "options2 = list(data['division'].unique())\n",
    "options3 = [1, 2, 3, 4, 5, 6, 7, 8, 9, 10]\n",
    "\n",
    "# defining weights to all possible responses that can be given by the user\n",
    "# for responses in the range [0.0, 0.5] and [0.6, 1.0], weight is defined between [6, 2] respectively \n",
    "weight_dict = {0.0: 6, 0.1: 5, 0.2: 4, 0.3: 3, 0.4: 2, 0.5: 1, \n",
    "               0.6: 2, 0.7: 3, 0.8: 4, 0.9: 5, 1.0: 6}\n",
    "\n",
    "# the features that will be weighted based on the responses provided by the user. \n",
    "weighted_features_1 = [['KD', 'SIG_STR_pct', 'SLpM', 'Str_Acc', 'win_by_KO/TKO'],\n",
    "                     ['SUB_ATT', 'TD_Avg', 'TD_Acc', 'pct_TD', 'win_by_Submission']]\n",
    "\n",
    "weighted_features_2 = [['SApM', 'DIST_pct', 'Str_Def', 'fight_time', 'TD_Def'], \n",
    "                       ['Str_Acc', 'TD_Avg', 'TD_Acc', 'CTRL_RT', 'win_by_Submission']]\n",
    "\n",
    "weighted_features_3 = [['pct_LEG', 'pct_BODY', 'pct_HEAD', 'win_by_KO/TKO', 'win_by_Decision_Unanimous',\n",
    "                       'win_by_Decision_Majority'], \n",
    "                       ['Sub_Avg', 'SUB_ATT', 'TD_Def', 'TD_Def', 'SApM', 'win_by_Submission']]"
   ]
  },
  {
   "cell_type": "code",
   "execution_count": 5,
   "id": "4e00a06a",
   "metadata": {},
   "outputs": [
    {
     "data": {
      "text/html": [
       "\n",
       "        <script>\n",
       "        function code_toggle() {\n",
       "            if (code_show) {\n",
       "                $('div.input').hide();\n",
       "            } else {\n",
       "                $('div.input').show();\n",
       "            }\n",
       "            code_show = !code_show;\n",
       "        }\n",
       "        $(document).ready(code_toggle);\n",
       "        </script>\n",
       "        <form action=\"javascript:code_toggle()\">\n",
       "            <input type=\"submit\" value=\"Click here to toggle on/off the raw code.\">\n",
       "        </form>\n",
       "    "
      ],
      "text/plain": [
       "<IPython.core.display.HTML object>"
      ]
     },
     "metadata": {},
     "output_type": "display_data"
    },
    {
     "data": {
      "application/vnd.jupyter.widget-view+json": {
       "model_id": "62988d130fb94c71bc3b718479da6916",
       "version_major": 2,
       "version_minor": 0
      },
      "text/plain": [
       "HTML(value='<h5>Rate your preference for Striking [1] vs. Wrestling [9]</h5>')"
      ]
     },
     "metadata": {},
     "output_type": "display_data"
    },
    {
     "data": {
      "application/vnd.jupyter.widget-view+json": {
       "model_id": "0e458912eb1545dc912019006f85fab1",
       "version_major": 2,
       "version_minor": 0
      },
      "text/plain": [
       "IntSlider(value=1, layout=Layout(width='800px'), max=9, min=1)"
      ]
     },
     "metadata": {},
     "output_type": "display_data"
    },
    {
     "data": {
      "application/vnd.jupyter.widget-view+json": {
       "model_id": "9d0ea9a0e4174da893b19cb0fddc46ff",
       "version_major": 2,
       "version_minor": 0
      },
      "text/plain": [
       "HTML(value='<h5>Select your preferred weight class or division:</h5>')"
      ]
     },
     "metadata": {},
     "output_type": "display_data"
    },
    {
     "data": {
      "application/vnd.jupyter.widget-view+json": {
       "model_id": "d9dedf65499b466eb8b7aa21e2f69c01",
       "version_major": 2,
       "version_minor": 0
      },
      "text/plain": [
       "Dropdown(layout=Layout(width='800px'), options=('Lightweight Division', 'Heavyweight Division', 'Bantamweight …"
      ]
     },
     "metadata": {},
     "output_type": "display_data"
    },
    {
     "data": {
      "application/vnd.jupyter.widget-view+json": {
       "model_id": "6ff4e01e02ab45829a25b454c5472ab6",
       "version_major": 2,
       "version_minor": 0
      },
      "text/plain": [
       "HTML(value='<h5>Are you more interested in fighters who excel in striking and have a \\n            high percen…"
      ]
     },
     "metadata": {},
     "output_type": "display_data"
    },
    {
     "data": {
      "application/vnd.jupyter.widget-view+json": {
       "model_id": "7ba7686da8c449999eb231dedae7f6d0",
       "version_major": 2,
       "version_minor": 0
      },
      "text/plain": [
       "IntSlider(value=0, layout=Layout(width='800px'), max=10)"
      ]
     },
     "metadata": {},
     "output_type": "display_data"
    },
    {
     "data": {
      "application/vnd.jupyter.widget-view+json": {
       "model_id": "bae47dc98a4e4f5f95ec2cbf3ba8d9e0",
       "version_major": 2,
       "version_minor": 0
      },
      "text/plain": [
       "HTML(value='<h5>Are you more interested in fighters who have a strong defensive game, \\n               with hi…"
      ]
     },
     "metadata": {},
     "output_type": "display_data"
    },
    {
     "data": {
      "application/vnd.jupyter.widget-view+json": {
       "model_id": "98c4005e319a4058ad2f4cd0654ab09a",
       "version_major": 2,
       "version_minor": 0
      },
      "text/plain": [
       "IntSlider(value=0, layout=Layout(width='800px'), max=10)"
      ]
     },
     "metadata": {},
     "output_type": "display_data"
    },
    {
     "data": {
      "application/vnd.jupyter.widget-view+json": {
       "model_id": "602428dbfb474f13867612f578dfc07a",
       "version_major": 2,
       "version_minor": 0
      },
      "text/plain": [
       "HTML(value=\"<h5>Do you prefer fighters who have a well-rounded game, with good performance in \\n              …"
      ]
     },
     "metadata": {},
     "output_type": "display_data"
    },
    {
     "data": {
      "application/vnd.jupyter.widget-view+json": {
       "model_id": "77b7345e81ab4ae39fc35037da28c596",
       "version_major": 2,
       "version_minor": 0
      },
      "text/plain": [
       "IntSlider(value=0, layout=Layout(width='800px'), max=10)"
      ]
     },
     "metadata": {},
     "output_type": "display_data"
    }
   ],
   "source": [
    "toggle_code_show()\n",
    "\n",
    "widgets_config = {'layout': {'width': '800px'}}\n",
    "\n",
    "def handle_likert_scale1_change(change):\n",
    "    responses['question1'] = change.new\n",
    "\n",
    "def handle_likert_scale2_change(change):\n",
    "    responses['question2'] = change.new\n",
    "\n",
    "def handle_likert_scale3_change(change):\n",
    "    responses['question3'] = change.new\n",
    "\n",
    "def handle_likert_scale4_change(change):\n",
    "    responses['question4'] = change.new\n",
    "\n",
    "def handle_likert_scale5_change(change):\n",
    "    responses['question5'] = change.new\n",
    "\n",
    "question_html1 = widgets.HTML(value='<h5>' + question1 + '</h5>')\n",
    "likert_scale1 = widgets.IntSlider(min=1, max=9, **widgets_config)\n",
    "likert_scale1.observe(handle_likert_scale1_change, names='value')\n",
    "\n",
    "question_html2 = widgets.HTML(value='<h5>' + question2 + '</h5>')\n",
    "likert_scale2 = widgets.Dropdown(options=options2, **widgets_config)\n",
    "likert_scale2.observe(handle_likert_scale2_change, names='value')\n",
    "\n",
    "question_html3 = widgets.HTML(value='<h5>' + question3 + '</h5>')\n",
    "likert_scale3 = widgets.IntSlider(min=0, max=10, **widgets_config)\n",
    "likert_scale3.observe(handle_likert_scale3_change, names='value')\n",
    "\n",
    "question_html4 = widgets.HTML(value='<h5>' + question4 + '</h5>')\n",
    "likert_scale4 = widgets.IntSlider(min=0, max=10, **widgets_config)\n",
    "likert_scale4.observe(handle_likert_scale4_change, names='value')\n",
    "\n",
    "question_html5 = widgets.HTML(value='<h5>' + question5 + '</h5>')\n",
    "likert_scale5 = widgets.IntSlider(min=0, max=10, **widgets_config)\n",
    "likert_scale5.observe(handle_likert_scale5_change, names='value')\n",
    "\n",
    "# Display the widgets\n",
    "display(question_html1, likert_scale1)\n",
    "display(question_html2, likert_scale2)\n",
    "display(question_html3, likert_scale3)\n",
    "display(question_html4, likert_scale4)\n",
    "display(question_html5, likert_scale5)"
   ]
  },
  {
   "cell_type": "code",
   "execution_count": 10,
   "id": "bbe1dd5b",
   "metadata": {},
   "outputs": [
    {
     "data": {
      "application/vnd.jupyter.widget-view+json": {
       "model_id": "79f196f2163a45aab1c64a6bfe201a9f",
       "version_major": 2,
       "version_minor": 0
      },
      "text/plain": [
       "Button(description='See Results', style=ButtonStyle())"
      ]
     },
     "metadata": {},
     "output_type": "display_data"
    },
    {
     "data": {
      "application/vnd.jupyter.widget-view+json": {
       "model_id": "e6932e5ad43b4ddda33b1a1fe14b28a7",
       "version_major": 2,
       "version_minor": 0
      },
      "text/plain": [
       "Output()"
      ]
     },
     "metadata": {},
     "output_type": "display_data"
    }
   ],
   "source": [
    "create_button_widget()"
   ]
  },
  {
   "cell_type": "code",
   "execution_count": 11,
   "id": "16618214",
   "metadata": {},
   "outputs": [],
   "source": [
    "# get the values for the last three keys into a list,\n",
    "# then scale the values to a [0, 1] range\n",
    "pca_values = [x/10 for x in list(responses.values())[2::]]"
   ]
  },
  {
   "cell_type": "code",
   "execution_count": 12,
   "id": "891d6a92",
   "metadata": {},
   "outputs": [],
   "source": [
    "for i, x in enumerate(pca_values):\n",
    "    if i == 0:\n",
    "        norm_weight.append(weight_dict[x])\n",
    "        if x > 0.5:\n",
    "            scores.loc[weighted_features_1[1], 'Component 1'] *= weight_dict[x] \n",
    "            scores.loc[weighted_features_1[0], 'Component 1'] /= weight_dict[x]\n",
    "        else:\n",
    "            scores.loc[weighted_features_1[1], 'Component 1'] /= weight_dict[x] \n",
    "            scores.loc[weighted_features_1[0], 'Component 1'] *= weight_dict[x]\n",
    "    elif i == 1:\n",
    "        norm_weight.append(weight_dict[x])\n",
    "        if x > 0.5:\n",
    "            scores.loc[weighted_features_2[0], 'Component 2'] *= weight_dict[x] \n",
    "            scores.loc[weighted_features_2[1], 'Component 2'] /= weight_dict[x]\n",
    "        else:\n",
    "            scores.loc[weighted_features_2[0], 'Component 2'] /= weight_dict[x] \n",
    "            scores.loc[weighted_features_2[1], 'Component 2'] *= weight_dict[x]\n",
    "    else:\n",
    "        norm_weight.append(weight_dict[x])\n",
    "        if x > 0.5:\n",
    "            scores.loc[weighted_features_3[0], 'Component 3'] *= weight_dict[x] \n",
    "            scores.loc[weighted_features_3[1], 'Component 3'] /= weight_dict[x]\n",
    "        else:\n",
    "            scores.loc[weighted_features_3[0], 'Component 3'] /= weight_dict[x] \n",
    "            scores.loc[weighted_features_3[1], 'Component 3'] *= weight_dict[x]"
   ]
  },
  {
   "cell_type": "code",
   "execution_count": 13,
   "id": "6413c257",
   "metadata": {},
   "outputs": [],
   "source": [
    "# Filter DataFrame based on the first question\n",
    "filtered_df = data[data['lab_num'] == responses['question1']]\n",
    "\n",
    "# Filter the resulting DataFrame based on the second value\n",
    "filtered_df = filtered_df[filtered_df['division'] == responses['question2']]\n",
    "filtered_df = filtered_df.loc[:, scores.index.tolist()] \n",
    "\n",
    "# the combined sum of the 3 weighted loading scores is calculated\n",
    "# and added to the scores df as a column\n",
    "scores['Sum'] = (scores['Component 1'] + scores['Component 2'] + scores['Component 3']) / sum(norm_weight)\n",
    "scoresT = scores.T\n",
    "\n",
    "# the 'Sum' column is being added to the fighter's dataframe\n",
    "warnings.filterwarnings(\"ignore\", category=FutureWarning)\n",
    "filtered_df = filtered_df.append(scoresT.iloc[-1])\n",
    "\n",
    "# vectors defined to perform the cosine similarity calculation \n",
    "vector1 = filtered_df.loc['Sum'].values.reshape(1, -1)\n",
    "vector2 = filtered_df.values\n",
    "\n",
    "# Calculate cosine similarity\n",
    "similarity_matrix = cosine_similarity(vector1, vector2)\n",
    "\n",
    "# Add similarity scores as a new column in the merged dataframe\n",
    "filtered_df['Rank'] = similarity_matrix.flatten()"
   ]
  },
  {
   "cell_type": "code",
   "execution_count": 18,
   "id": "7174604c",
   "metadata": {},
   "outputs": [
    {
     "data": {
      "text/html": [
       "<span style='font-size:14pt; font-weight:bold; color:blue'>The recommended Fighters are: \n",
       "Jason Thacker, Neil Wain, Tim McKenzie, Chris Sanford, Marcelo Aguiar</span>"
      ],
      "text/plain": [
       "<IPython.core.display.HTML object>"
      ]
     },
     "metadata": {},
     "output_type": "display_data"
    }
   ],
   "source": [
    "recommended_fighters = filtered_df.drop(filtered_df.index[-1])\n",
    "recommended_fighters = recommended_fighters['Rank'].nlargest(5)\n",
    "\n",
    "index_values = 'The recommended Fighters are:' + ', '.join(map(str, recommended_fighters.index))\n",
    "\n",
    "formatted_output = f\"<span style='font-size:14pt; font-weight:bold; color:blue'>{index_values}</span>\"\n",
    "display(HTML(formatted_output))"
   ]
  }
 ],
 "metadata": {
  "kernelspec": {
   "display_name": "Python 3 (ipykernel)",
   "language": "python",
   "name": "python3"
  },
  "language_info": {
   "codemirror_mode": {
    "name": "ipython",
    "version": 3
   },
   "file_extension": ".py",
   "mimetype": "text/x-python",
   "name": "python",
   "nbconvert_exporter": "python",
   "pygments_lexer": "ipython3",
   "version": "3.9.0"
  }
 },
 "nbformat": 4,
 "nbformat_minor": 5
}
